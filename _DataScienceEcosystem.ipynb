{
 "cells": [
  {
   "cell_type": "markdown",
   "id": "0a6d34e9-e367-4b88-8c3b-16dc52c970d1",
   "metadata": {},
   "source": [
    "### H1 : Data Science Tools and Ecosystem"
   ]
  },
  {
   "cell_type": "markdown",
   "id": "ea98d3de-ac10-427d-9364-57c73cadd6fe",
   "metadata": {},
   "source": [
    "In this notebook, Data Science Tools and Ecosystem are summarized."
   ]
  },
  {
   "cell_type": "markdown",
   "id": "1fce9e4c-c8d6-4c17-9441-16207c315e99",
   "metadata": {},
   "source": [
    "Some of the popular languages that Data Scientists use are:\n",
    "1. Python\n",
    "2. R\n",
    "3. C++"
   ]
  },
  {
   "cell_type": "markdown",
   "id": "7c460389-14e9-49f1-8c80-52594f8a7154",
   "metadata": {},
   "source": [
    "Some of the commonly used libraries used by Data Scientists include:\n",
    "1. Pandas\n",
    "2. Numpy\n",
    "3. TenserFlow\n",
    "4. scipy"
   ]
  },
  {
   "cell_type": "markdown",
   "id": "82968468-5f41-4854-bb20-596f57957c57",
   "metadata": {},
   "source": [
    "|Data Science Tools|\n",
    "|---|\n",
    "|Apache Hadoop|\n",
    "|Jupyter NoteBook|\n",
    "|Anaconda|"
   ]
  },
  {
   "cell_type": "markdown",
   "id": "24518a75-1490-4218-9383-c111dfc8e5bd",
   "metadata": {},
   "source": [
    "### Below are a few examples of evaluating arithmetic expressions in Python"
   ]
  },
  {
   "cell_type": "code",
   "execution_count": 2,
   "id": "9c36795c-7f6b-41b0-a593-786a0919ef3c",
   "metadata": {},
   "outputs": [
    {
     "data": {
      "text/plain": [
       "17"
      ]
     },
     "execution_count": 2,
     "metadata": {},
     "output_type": "execute_result"
    }
   ],
   "source": [
    "#This a simple arithmetic expression to mutiply then add integers\n",
    "(3*4)+5"
   ]
  },
  {
   "cell_type": "code",
   "execution_count": 3,
   "id": "347c61ee-b578-4764-953e-d5c41a5f89d1",
   "metadata": {},
   "outputs": [
    {
     "data": {
      "text/plain": [
       "3.3333333333333335"
      ]
     },
     "execution_count": 3,
     "metadata": {},
     "output_type": "execute_result"
    }
   ],
   "source": [
    "#This will convert 200 minutes to hours by diving by 60\n",
    "200/60"
   ]
  },
  {
   "cell_type": "markdown",
   "id": "a7f01b7e-30e2-4d39-909d-df68c3d675bb",
   "metadata": {},
   "source": [
    "__Objectives__:\n",
    "* List popular languages for Data Science\n",
    "* List popular Libraries for Data Science\n",
    "* List Data Science Tools\n",
    "* How To Write A Commetnt In The NoteBook"
   ]
  },
  {
   "cell_type": "markdown",
   "id": "d7f38950-70f0-4e40-9ab5-5785e7c2f63d",
   "metadata": {},
   "source": [
    "## Author\n",
    "Nassrat Al Hallak\n"
   ]
  },
  {
   "cell_type": "code",
   "execution_count": null,
   "id": "0954342d-8512-47c6-a71b-1643757757c9",
   "metadata": {},
   "outputs": [],
   "source": []
  }
 ],
 "metadata": {
  "kernelspec": {
   "display_name": "Python 3 (ipykernel)",
   "language": "python",
   "name": "python3"
  },
  "language_info": {
   "codemirror_mode": {
    "name": "ipython",
    "version": 3
   },
   "file_extension": ".py",
   "mimetype": "text/x-python",
   "name": "python",
   "nbconvert_exporter": "python",
   "pygments_lexer": "ipython3",
   "version": "3.12.7"
  }
 },
 "nbformat": 4,
 "nbformat_minor": 5
}
